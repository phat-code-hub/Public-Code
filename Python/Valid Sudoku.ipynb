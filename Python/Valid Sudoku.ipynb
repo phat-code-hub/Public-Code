{
 "cells": [
  {
   "cell_type": "code",
   "execution_count": 1,
   "metadata": {},
   "outputs": [],
   "source": [
    "board = [[\"5\",\"3\",\".\",\".\",\"7\",\".\",\".\",\".\",\".\"],[\"6\",\".\",\".\",\"1\",\"9\",\"5\",\".\",\".\",\".\"],[\".\",\"9\",\"8\",\".\",\".\",\".\",\".\",\"6\",\".\"],[\"8\",\".\",\".\",\".\",\"6\",\".\",\".\",\".\",\"3\"],[\"4\",\".\",\".\",\"8\",\".\",\"3\",\".\",\".\",\"1\"],[\"7\",\".\",\".\",\".\",\"2\",\".\",\".\",\".\",\"6\"],[\".\",\"6\",\".\",\".\",\".\",\".\",\"2\",\"8\",\".\"],[\".\",\".\",\".\",\"4\",\"1\",\"9\",\".\",\".\",\"5\"],[\".\",\".\",\".\",\".\",\"8\",\".\",\".\",\"7\",\"9\"]]"
   ]
  },
  {
   "cell_type": "code",
   "execution_count": 2,
   "metadata": {},
   "outputs": [],
   "source": [
    "chk = lambda x,y :  True if x not in y else False "
   ]
  },
  {
   "cell_type": "code",
   "execution_count": 3,
   "metadata": {},
   "outputs": [
    {
     "name": "stdout",
     "output_type": "stream",
     "text": [
      "True\n",
      "[{'7', '5', '3'}, {'5', '1', '6', '9'}, {'8', '9', '6'}, {'8', '6', '3'}, {'8', '4', '1', '3'}, {'7', '6', '2'}, {'8', '6', '2'}, {'5', '4', '1', '9'}, {'7', '8', '9'}]\n",
      "[{'7', '5', '8', '6', '4'}, {'9', '6', '3'}, {'8'}, {'8', '1', '4'}, {'7', '9', '2', '8', '6', '1'}, {'9', '5', '3'}, {'2'}, {'7', '8', '6'}, {'5', '3', '9', '6', '1'}]\n",
      "[{'5', '3', '9', '8', '6'}, {'7', '1', '9', '5'}, {'6'}, {'7', '8', '4'}, {'8', '6', '2', '3'}, {'1', '6', '3'}, {'6'}, {'8', '4', '1', '9'}, {'7', '5', '9', '2', '8'}]\n"
     ]
    }
   ],
   "source": [
    "def chkOK(el,arr1=[],arr2=[],arr3=[]):\n",
    "    for arr in [arr1,arr2,arr3]:\n",
    "        if len(el) == 0:\n",
    "            arr.add(el)\n",
    "        else:\n",
    "            if chk(el,arr):\n",
    "                arr.add(el)\n",
    "            else:\n",
    "                return False\n",
    "    return True\n",
    "cols=[set() for _ in range(9)]\n",
    "rows=[set() for _ in range(9)]\n",
    "cells =[set() for _ in range(9)]\n",
    "ans =True\n",
    "for i in range(9):\n",
    "    for j in range(9):\n",
    "        gr = (i//3) *3 +  j //3\n",
    "        if board[i][j].isnumeric():\n",
    "            if not chkOK(board[i][j],rows[i],cols[j],cells[gr]):\n",
    "                ans=  False\n",
    "                break\n",
    "    if not ans: break\n",
    "print(ans)\n",
    "print (rows)\n",
    "print(cols)\n",
    "print(cells)"
   ]
  }
 ],
 "metadata": {
  "kernelspec": {
   "display_name": "Python 3",
   "language": "python",
   "name": "python3"
  },
  "language_info": {
   "codemirror_mode": {
    "name": "ipython",
    "version": 3
   },
   "file_extension": ".py",
   "mimetype": "text/x-python",
   "name": "python",
   "nbconvert_exporter": "python",
   "pygments_lexer": "ipython3",
   "version": "3.12.4"
  }
 },
 "nbformat": 4,
 "nbformat_minor": 2
}
